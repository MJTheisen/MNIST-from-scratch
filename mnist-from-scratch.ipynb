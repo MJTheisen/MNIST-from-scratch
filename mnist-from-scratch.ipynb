{
 "cells": [
  {
   "cell_type": "code",
   "execution_count": 1,
   "id": "321c24e8",
   "metadata": {
    "_cell_guid": "b1076dfc-b9ad-4769-8c92-a6c4dae69d19",
    "_uuid": "8f2839f25d086af736a60e9eeb907d3b93b6e0e5",
    "execution": {
     "iopub.execute_input": "2023-03-24T06:19:28.189975Z",
     "iopub.status.busy": "2023-03-24T06:19:28.189530Z",
     "iopub.status.idle": "2023-03-24T06:19:28.202491Z",
     "shell.execute_reply": "2023-03-24T06:19:28.200920Z"
    },
    "papermill": {
     "duration": 0.022347,
     "end_time": "2023-03-24T06:19:28.205770",
     "exception": false,
     "start_time": "2023-03-24T06:19:28.183423",
     "status": "completed"
    },
    "tags": []
   },
   "outputs": [],
   "source": [
    "########################################\n",
    "#                                      #\n",
    "#           Michael Theisen            #\n",
    "#           March 23rd, 2023           #\n",
    "#           MNIST from Scratch         #\n",
    "#                                      #\n",
    "########################################\n",
    "\n",
    "# This Python 3 environment comes with many helpful analytics libraries installed\n",
    "# It is defined by the kaggle/python Docker image: https://github.com/kaggle/docker-python\n",
    "# For example, here's several helpful packages to load\n",
    "\n",
    "import numpy as np # linear algebra\n",
    "import pandas as pd # data processing, CSV file I/O (e.g. pd.read_csv)\n",
    "from matplotlib import pyplot as plt\n",
    "\n",
    "# Input data files are available in the read-only \"../input/\" directory\n",
    "# For example, running this (by clicking run or pressing Shift+Enter) will list all files under the input directory\n",
    "\n",
    "# import os\n",
    "# for dirname, _, filenames in os.walk('/kaggle/input'):\n",
    "#     for filename in filenames:\n",
    "#         print(os.path.join(dirname, filename))\n",
    "\n",
    "# You can write up to 20GB to the current directory (/kaggle/working/) that gets preserved as output when you create a version using \"Save & Run All\" \n",
    "# You can also write temporary files to /kaggle/temp/, but they won't be saved outside of the current session"
   ]
  },
  {
   "cell_type": "code",
   "execution_count": 2,
   "id": "014b8474",
   "metadata": {
    "execution": {
     "iopub.execute_input": "2023-03-24T06:19:28.214943Z",
     "iopub.status.busy": "2023-03-24T06:19:28.214448Z",
     "iopub.status.idle": "2023-03-24T06:19:32.635447Z",
     "shell.execute_reply": "2023-03-24T06:19:32.633602Z"
    },
    "papermill": {
     "duration": 4.429018,
     "end_time": "2023-03-24T06:19:32.638541",
     "exception": false,
     "start_time": "2023-03-24T06:19:28.209523",
     "status": "completed"
    },
    "tags": []
   },
   "outputs": [],
   "source": [
    "data = pd.read_csv('/kaggle/input/digit-recognizer/train.csv')\n",
    "# data.head() sanity check."
   ]
  },
  {
   "cell_type": "code",
   "execution_count": 3,
   "id": "8cd8588a",
   "metadata": {
    "execution": {
     "iopub.execute_input": "2023-03-24T06:19:32.647245Z",
     "iopub.status.busy": "2023-03-24T06:19:32.646765Z",
     "iopub.status.idle": "2023-03-24T06:19:34.424135Z",
     "shell.execute_reply": "2023-03-24T06:19:34.422576Z"
    },
    "papermill": {
     "duration": 1.785787,
     "end_time": "2023-03-24T06:19:34.427712",
     "exception": false,
     "start_time": "2023-03-24T06:19:32.641925",
     "status": "completed"
    },
    "tags": []
   },
   "outputs": [],
   "source": [
    "data = np.array(data) # the data is NOW equal to a numpy array of the data\n",
    "m, n = data.shape # m and n are now the dimentions, or the shape of the data\n",
    "np.random.shuffle(data) # shuffle up the data to make it random\n",
    "\n",
    "data_dev = data[0:1000].T # make a set of dev data and transpose the data\n",
    "Y_dev = data_dev[0] # each column is an example instead of a row, just the first row\n",
    "X_dev = data_dev[1:n] \n",
    "X_dev = X_dev / 255.\n",
    "\n",
    "data_train = data[1000:m].T # the rest of the data used for training. Transposed.\n",
    "Y_train = data_train[0]\n",
    "X_train = data_train[1:n]\n",
    "X_train = X_train / 255.\n",
    "_,m_train = X_train.shape"
   ]
  },
  {
   "cell_type": "code",
   "execution_count": 4,
   "id": "22ef5730",
   "metadata": {
    "execution": {
     "iopub.execute_input": "2023-03-24T06:19:34.436970Z",
     "iopub.status.busy": "2023-03-24T06:19:34.436501Z",
     "iopub.status.idle": "2023-03-24T06:19:34.451246Z",
     "shell.execute_reply": "2023-03-24T06:19:34.449935Z"
    },
    "papermill": {
     "duration": 0.023042,
     "end_time": "2023-03-24T06:19:34.454113",
     "exception": false,
     "start_time": "2023-03-24T06:19:34.431071",
     "status": "completed"
    },
    "tags": []
   },
   "outputs": [],
   "source": [
    "# Now we need to initialize our parameters.\n",
    "def init_params():\n",
    "    W1 = np.random.rand(10, 784) - 0.5 # needs -0.5\n",
    "    b1 = np.random.rand(10, 1) - 0.5\n",
    "    W2 = np.random.rand(10, 10) - 0.5\n",
    "    b2 = np.random.rand(10, 1) - 0.5\n",
    "    return W1, b1, W2, b2\n",
    "\n",
    "def ReLU(Z): # First, we must define ReLU\n",
    "    return np.maximum(Z, 0) # returns either 0 if 0 \n",
    "                            # or less than and  or Z if greater than 0,\n",
    "    \n",
    "def softmax(Z):\n",
    "    A = np.exp(Z) / sum(np.exp(Z))  # probability\n",
    "    return A\n",
    "\n",
    "def forward_prop(W1, b1, W2, b2, X): # takes W1, b1, W2, b2, and X as arguments\n",
    "    Z1 = W1.dot(X) + b1\n",
    "    A1 = ReLU(Z1)\n",
    "    Z2 = W2.dot(A1) + b2\n",
    "    A2 = softmax(Z2)\n",
    "    return Z1, A1, Z2, A2\n",
    "\n",
    "def one_hot(Y):\n",
    "    one_hot_Y = np.zeros((Y.size, Y.max() + 1)) # creates a new matrix with a tuple of its size\n",
    "    one_hot_Y[np.arange(Y.size), Y] = 1 # indexing through one_hot_Y using arrays\n",
    "    one_hot_Y = one_hot_Y.T # then transpose it\n",
    "    return one_hot_Y\n",
    "\n",
    "def deriv_ReLU(Z):\n",
    "    return Z > 0\n",
    "    \n",
    "    \n",
    "def back_prop(Z1, A1, Z2, A2, W1, W2, X, Y):\n",
    "    one_hot_Y = one_hot(Y)\n",
    "    dZ2 = A2 - one_hot_Y\n",
    "    dW2 = 1 / m * dZ2.dot(A1.T)\n",
    "    db2 = 1 / m * np.sum(dZ2)\n",
    "    dZ1 = W2.T.dot(dZ2) * deriv_ReLU(Z1)\n",
    "    dW1 = 1 / m * dZ1.dot(X.T)\n",
    "    db1 = 1 / m * np.sum(dZ1)\n",
    "    return dW1, db1, dW2, db2\n",
    "\n",
    "def update_params(W1, b1, W2, b2, dW1, db1, dW2, db2, alpha):\n",
    "    W1 = W1 - alpha * dW1\n",
    "    b1 = b1 - alpha * db1\n",
    "    W2 = W2 - alpha * dW2\n",
    "    b2 = b2 - alpha * db2\n",
    "    return W1, b1, W2, b2"
   ]
  },
  {
   "cell_type": "code",
   "execution_count": 5,
   "id": "07f6e0fa",
   "metadata": {
    "execution": {
     "iopub.execute_input": "2023-03-24T06:19:34.463209Z",
     "iopub.status.busy": "2023-03-24T06:19:34.462753Z",
     "iopub.status.idle": "2023-03-24T06:19:34.472620Z",
     "shell.execute_reply": "2023-03-24T06:19:34.471100Z"
    },
    "papermill": {
     "duration": 0.017754,
     "end_time": "2023-03-24T06:19:34.475303",
     "exception": false,
     "start_time": "2023-03-24T06:19:34.457549",
     "status": "completed"
    },
    "tags": []
   },
   "outputs": [],
   "source": [
    "def get_predictions(A2):\n",
    "    return np.argmax(A2, 0)\n",
    "\n",
    "def get_accuracy(predictions, Y):\n",
    "    print(predictions, Y)\n",
    "    return np.sum(predictions == Y) / Y.size\n",
    "\n",
    "def gradient_descent(X, Y, alpha, iterations):\n",
    "    W1, b1, W2, b2 = init_params()\n",
    "    for i in range(iterations):\n",
    "        Z1, A1, Z2, A2 = forward_prop(W1, b1, W2, b2, X)\n",
    "        dW1, db1, dW2, db2 = back_prop(Z1, A1, Z2, A2, W1, W2, X, Y)\n",
    "        W1, b1, W2, b2 = update_params(W1, b1, W2, b2, dW1, db1, dW2, db2, alpha)\n",
    "        if i % 100 == 0:\n",
    "            print(\"Iteration: \", i)\n",
    "            print(\"Accuracy: \", get_accuracy(get_predictions(A2), Y))\n",
    "    return W1, b1, W2, b2"
   ]
  },
  {
   "cell_type": "code",
   "execution_count": 6,
   "id": "b15e51d2",
   "metadata": {
    "execution": {
     "iopub.execute_input": "2023-03-24T06:19:34.485093Z",
     "iopub.status.busy": "2023-03-24T06:19:34.483833Z",
     "iopub.status.idle": "2023-03-24T06:22:41.556324Z",
     "shell.execute_reply": "2023-03-24T06:22:41.554334Z"
    },
    "papermill": {
     "duration": 187.082762,
     "end_time": "2023-03-24T06:22:41.561562",
     "exception": false,
     "start_time": "2023-03-24T06:19:34.478800",
     "status": "completed"
    },
    "tags": []
   },
   "outputs": [
    {
     "name": "stdout",
     "output_type": "stream",
     "text": [
      "Iteration:  0\n",
      "[6 6 6 ... 6 6 6] [1 4 7 ... 0 5 6]\n",
      "Accuracy:  0.10439024390243902\n",
      "Iteration:  100\n",
      "[1 4 7 ... 0 5 6] [1 4 7 ... 0 5 6]\n",
      "Accuracy:  0.6607560975609756\n",
      "Iteration:  200\n",
      "[1 4 7 ... 0 5 6] [1 4 7 ... 0 5 6]\n",
      "Accuracy:  0.7712926829268293\n",
      "Iteration:  300\n",
      "[1 4 7 ... 0 5 6] [1 4 7 ... 0 5 6]\n",
      "Accuracy:  0.813560975609756\n",
      "Iteration:  400\n",
      "[1 4 7 ... 0 5 6] [1 4 7 ... 0 5 6]\n",
      "Accuracy:  0.8365365853658536\n",
      "Iteration:  500\n",
      "[1 4 7 ... 0 5 6] [1 4 7 ... 0 5 6]\n",
      "Accuracy:  0.8509024390243902\n",
      "Iteration:  600\n",
      "[1 4 7 ... 0 5 6] [1 4 7 ... 0 5 6]\n",
      "Accuracy:  0.8609268292682927\n",
      "Iteration:  700\n",
      "[1 4 7 ... 0 9 6] [1 4 7 ... 0 5 6]\n",
      "Accuracy:  0.8681951219512195\n",
      "Iteration:  800\n",
      "[1 4 7 ... 0 9 6] [1 4 7 ... 0 5 6]\n",
      "Accuracy:  0.8738536585365854\n",
      "Iteration:  900\n",
      "[1 4 7 ... 0 9 6] [1 4 7 ... 0 5 6]\n",
      "Accuracy:  0.8792682926829268\n",
      "Iteration:  1000\n",
      "[1 4 7 ... 0 9 6] [1 4 7 ... 0 5 6]\n",
      "Accuracy:  0.8827804878048781\n"
     ]
    }
   ],
   "source": [
    "W1, b1, W2, b2 = gradient_descent(X_train, Y_train, 0.10, 1100)"
   ]
  },
  {
   "cell_type": "markdown",
   "id": "96465b4a",
   "metadata": {
    "papermill": {
     "duration": 0.009263,
     "end_time": "2023-03-24T06:22:41.581086",
     "exception": false,
     "start_time": "2023-03-24T06:22:41.571823",
     "status": "completed"
    },
    "tags": []
   },
   "source": [
    "Nice! "
   ]
  },
  {
   "cell_type": "code",
   "execution_count": 7,
   "id": "8f630239",
   "metadata": {
    "execution": {
     "iopub.execute_input": "2023-03-24T06:22:41.604155Z",
     "iopub.status.busy": "2023-03-24T06:22:41.603331Z",
     "iopub.status.idle": "2023-03-24T06:22:41.620406Z",
     "shell.execute_reply": "2023-03-24T06:22:41.618532Z"
    },
    "papermill": {
     "duration": 0.034437,
     "end_time": "2023-03-24T06:22:41.625295",
     "exception": false,
     "start_time": "2023-03-24T06:22:41.590858",
     "status": "completed"
    },
    "tags": []
   },
   "outputs": [],
   "source": [
    "def make_predictions(X, W1, b1, W2, b2):\n",
    "    _, _, _, A2 = forward_prop(W1, b1, W2, b2, X)\n",
    "    predictions = get_predictions(A2)\n",
    "    return predictions\n",
    "\n",
    "def test_prediction(index, W1, b1, W2, b2):\n",
    "    current_image = X_train[:, index, None]\n",
    "    prediction = make_predictions(X_train[:, index, None], W1, b1, W2, b2)\n",
    "    label = Y_train[index]\n",
    "    print(\"Prediction: \", prediction)\n",
    "    print(\"Actual Label: \", label)\n",
    "    \n",
    "    current_image = current_image.reshape((28, 28)) * 255\n",
    "    plt.gray()\n",
    "    plt.imshow(current_image, interpolation='nearest')\n",
    "    plt.show()"
   ]
  },
  {
   "cell_type": "code",
   "execution_count": 8,
   "id": "b9f0fb56",
   "metadata": {
    "execution": {
     "iopub.execute_input": "2023-03-24T06:22:41.648459Z",
     "iopub.status.busy": "2023-03-24T06:22:41.647487Z",
     "iopub.status.idle": "2023-03-24T06:22:44.091805Z",
     "shell.execute_reply": "2023-03-24T06:22:44.090537Z"
    },
    "papermill": {
     "duration": 2.459626,
     "end_time": "2023-03-24T06:22:44.094947",
     "exception": false,
     "start_time": "2023-03-24T06:22:41.635321",
     "status": "completed"
    },
    "tags": []
   },
   "outputs": [
    {
     "name": "stdout",
     "output_type": "stream",
     "text": [
      "Prediction:  [1]\n",
      "Actual Label:  1\n"
     ]
    },
    {
     "data": {
      "image/png": "[encoded data removed]",
      "text/plain": [
       "<Figure size 640x480 with 1 Axes>"
      ]
     },
     "metadata": {},
     "output_type": "display_data"
    },
    {
     "name": "stdout",
     "output_type": "stream",
     "text": [
      "Prediction:  [4]\n",
      "Actual Label:  4\n"
     ]
    },
    {
     "data": {
      "image/png": "[encoded data removed]",
      "text/plain": [
       "<Figure size 640x480 with 1 Axes>"
      ]
     },
     "metadata": {},
     "output_type": "display_data"
    },
    {
     "name": "stdout",
     "output_type": "stream",
     "text": [
      "Prediction:  [7]\n",
      "Actual Label:  7\n"
     ]
    },
    {
     "data": {
      "image/png": "[encoded data removed]",
      "text/plain": [
       "<Figure size 640x480 with 1 Axes>"
      ]
     },
     "metadata": {},
     "output_type": "display_data"
    },
    {
     "name": "stdout",
     "output_type": "stream",
     "text": [
      "Prediction:  [8]\n",
      "Actual Label:  8\n"
     ]
    },
    {
     "data": {
      "image/png": "[encoded data removed]",
      "text/plain": [
       "<Figure size 640x480 with 1 Axes>"
      ]
     },
     "metadata": {},
     "output_type": "display_data"
    },
    {
     "name": "stdout",
     "output_type": "stream",
     "text": [
      "Prediction:  [7]\n",
      "Actual Label:  7\n"
     ]
    },
    {
     "data": {
      "image/png": "[encoded data removed]",
      "text/plain": [
       "<Figure size 640x480 with 1 Axes>"
      ]
     },
     "metadata": {},
     "output_type": "display_data"
    },
    {
     "name": "stdout",
     "output_type": "stream",
     "text": [
      "Prediction:  [1]\n",
      "Actual Label:  7\n"
     ]
    },
    {
     "data": {
      "image/png": "[encoded data removed]",
      "text/plain": [
       "<Figure size 640x480 with 1 Axes>"
      ]
     },
     "metadata": {},
     "output_type": "display_data"
    },
    {
     "name": "stdout",
     "output_type": "stream",
     "text": [
      "Prediction:  [5]\n",
      "Actual Label:  5\n"
     ]
    },
    {
     "data": {
      "image/png": "[encoded data removed]",
      "text/plain": [
       "<Figure size 640x480 with 1 Axes>"
      ]
     },
     "metadata": {},
     "output_type": "display_data"
    },
    {
     "name": "stdout",
     "output_type": "stream",
     "text": [
      "Prediction:  [0]\n",
      "Actual Label:  0\n"
     ]
    },
    {
     "data": {
      "image/png": "[encoded data removed]",
      "text/plain": [
       "<Figure size 640x480 with 1 Axes>"
      ]
     },
     "metadata": {},
     "output_type": "display_data"
    },
    {
     "name": "stdout",
     "output_type": "stream",
     "text": [
      "Prediction:  [4]\n",
      "Actual Label:  4\n"
     ]
    },
    {
     "data": {
      "image/png": "[encoded data removed]",
      "text/plain": [
       "<Figure size 640x480 with 1 Axes>"
      ]
     },
     "metadata": {},
     "output_type": "display_data"
    },
    {
     "name": "stdout",
     "output_type": "stream",
     "text": [
      "Prediction:  [9]\n",
      "Actual Label:  7\n"
     ]
    },
    {
     "data": {
      "image/png": "[encoded data removed]",
      "text/plain": [
       "<Figure size 640x480 with 1 Axes>"
      ]
     },
     "metadata": {},
     "output_type": "display_data"
    },
    {
     "name": "stdout",
     "output_type": "stream",
     "text": [
      "Prediction:  [9]\n",
      "Actual Label:  9\n"
     ]
    },
    {
     "data": {
      "image/png": "[encoded data removed]",
      "text/plain": [
       "<Figure size 640x480 with 1 Axes>"
      ]
     },
     "metadata": {},
     "output_type": "display_data"
    }
   ],
   "source": [
    "test_prediction(0, W1, b1, W2, b2)\n",
    "test_prediction(1, W1, b1, W2, b2)\n",
    "test_prediction(2, W1, b1, W2, b2)\n",
    "test_prediction(3, W1, b1, W2, b2)\n",
    "test_prediction(4, W1, b1, W2, b2)\n",
    "test_prediction(5, W1, b1, W2, b2)\n",
    "test_prediction(6, W1, b1, W2, b2)\n",
    "test_prediction(7, W1, b1, W2, b2)\n",
    "test_prediction(8, W1, b1, W2, b2)\n",
    "test_prediction(9, W1, b1, W2, b2)\n",
    "test_prediction(10, W1, b1, W2, b2)"
   ]
  },
  {
   "cell_type": "code",
   "execution_count": 9,
   "id": "33d44d24",
   "metadata": {
    "execution": {
     "iopub.execute_input": "2023-03-24T06:22:44.112721Z",
     "iopub.status.busy": "2023-03-24T06:22:44.111855Z",
     "iopub.status.idle": "2023-03-24T06:22:44.145507Z",
     "shell.execute_reply": "2023-03-24T06:22:44.143653Z"
    },
    "papermill": {
     "duration": 0.054011,
     "end_time": "2023-03-24T06:22:44.156777",
     "exception": false,
     "start_time": "2023-03-24T06:22:44.102766",
     "status": "completed"
    },
    "tags": []
   },
   "outputs": [
    {
     "name": "stdout",
     "output_type": "stream",
     "text": [
      "[4 9 3 9 9 1 7 4 7 8 9 5 0 8 6 5 1 0 8 1 6 6 3 2 9 9 4 7 2 7 6 6 6 7 1 1 6\n",
      " 6 4 6 3 6 3 9 5 9 5 1 1 2 7 6 4 8 9 6 2 2 9 5 3 3 3 7 2 9 4 5 6 9 0 8 6 7\n",
      " 1 1 4 6 0 7 0 1 1 3 9 1 5 8 7 7 0 1 9 5 2 8 8 2 0 2 1 9 1 2 1 3 0 8 3 0 8\n",
      " 2 8 0 4 9 6 3 7 7 6 4 1 6 7 0 8 9 0 0 6 4 1 1 1 6 5 0 0 5 5 9 7 1 5 0 0 5\n",
      " 9 8 4 2 4 7 6 3 7 9 5 5 5 9 5 8 4 8 0 6 4 7 1 8 2 2 7 1 9 1 2 5 6 2 3 1 3\n",
      " 4 4 8 9 6 1 7 9 9 9 7 7 2 9 8 5 2 1 3 5 3 7 2 2 9 4 6 1 0 3 8 5 2 5 9 3 9\n",
      " 1 3 5 8 5 8 1 5 4 8 0 6 5 3 8 7 5 8 6 4 1 5 7 1 4 6 8 1 1 4 1 5 0 4 2 1 2\n",
      " 7 8 3 7 2 7 9 7 9 6 2 6 6 3 4 7 7 7 7 8 8 8 6 0 6 5 3 6 8 1 6 3 6 1 1 8 8\n",
      " 5 3 9 8 6 7 8 9 6 1 5 2 1 2 9 5 9 4 5 0 1 1 1 8 4 2 0 7 2 4 4 1 9 2 9 4 4\n",
      " 8 2 4 1 7 1 7 6 1 5 0 6 5 7 3 6 7 5 5 1 9 1 6 1 0 5 1 8 2 4 3 5 2 5 6 8 0\n",
      " 1 9 3 2 7 2 7 9 5 8 0 8 3 8 0 0 0 7 3 5 8 1 5 1 9 0 4 6 1 1 6 3 9 5 4 4 8\n",
      " 8 5 7 4 6 1 5 6 4 9 3 6 2 0 9 7 1 9 0 2 8 0 3 6 7 2 7 8 8 1 8 8 9 2 0 3 6\n",
      " 4 2 2 9 1 2 6 1 6 5 3 7 2 3 8 8 9 1 6 7 7 4 7 8 3 3 3 0 9 6 0 2 7 2 2 2 7\n",
      " 4 4 8 4 6 8 3 8 1 1 5 2 6 9 7 8 6 9 6 1 0 2 3 4 3 3 5 4 3 4 9 7 4 0 5 6 0\n",
      " 1 3 8 9 6 4 1 4 7 9 0 1 3 7 1 5 2 6 4 4 4 9 1 3 0 6 7 5 9 1 3 5 1 9 5 9 9\n",
      " 0 1 6 5 4 3 4 8 8 9 3 2 8 3 7 3 8 9 3 8 7 0 5 9 0 3 4 2 5 5 5 6 5 4 1 8 7\n",
      " 9 0 9 5 4 9 3 3 4 8 9 2 3 7 8 3 5 8 0 8 7 0 5 0 7 1 2 3 0 7 4 4 4 6 1 7 9\n",
      " 4 8 7 6 7 7 3 6 3 4 6 4 7 9 7 1 1 9 0 6 6 1 5 4 6 4 8 4 8 3 7 4 3 9 7 1 2\n",
      " 3 5 0 2 4 9 3 0 9 3 2 8 7 1 4 3 3 9 3 0 1 7 3 6 6 5 6 6 7 2 1 9 7 4 9 7 9\n",
      " 6 1 2 5 3 2 3 5 5 6 3 1 5 1 1 4 9 4 8 1 1 7 7 7 2 1 6 6 9 8 8 7 5 0 0 0 7\n",
      " 1 8 1 3 3 4 2 4 6 5 5 1 7 4 6 5 4 7 1 6 3 7 3 3 2 4 1 8 3 8 1 6 4 8 5 7 4\n",
      " 7 8 0 1 2 3 4 6 7 4 1 0 7 9 8 3 6 7 0 5 9 4 1 9 9 5 1 7 1 6 1 3 0 2 3 9 5\n",
      " 3 7 7 0 0 2 7 5 3 7 6 3 5 6 3 3 8 0 1 9 4 4 9 1 2 2 3 9 9 6 0 6 3 6 0 5 4\n",
      " 2 9 4 7 2 9 9 3 4 4 1 3 3 0 6 0 4 6 4 2 0 6 2 6 3 4 5 3 8 8 1 4 1 7 0 2 0\n",
      " 3 1 2 1 0 1 9 0 2 4 9 5 5 0 7 6 3 9 7 2 3 5 3 1 4 4 9 1 4 4 3 7 1 4 0 6 2\n",
      " 7 8 9 2 9 2 2 7 2 8 1 3 6 5 5 9 6 6 0 5 0 5 5 6 6 7 9 0 3 4 3 1 2 2 4 1 9\n",
      " 6 3 6 1 4 5 6 5 5 1 2 1 7 6 6 5 4 0 0 3 2 1 9 2 6 7 9 7 0 9 3 7 5 6 9 6 7\n",
      " 4] [4 4 3 9 9 1 7 4 9 5 9 5 0 8 2 5 1 0 2 1 6 6 3 2 9 9 8 7 2 7 6 6 6 7 1 1 6\n",
      " 6 9 6 3 6 3 9 5 8 5 1 1 2 7 6 9 8 9 6 2 2 9 5 3 3 3 7 2 9 4 3 6 9 0 8 6 7\n",
      " 1 7 6 6 0 7 0 1 1 3 9 1 8 8 7 7 0 1 9 5 3 8 8 2 0 2 1 9 1 9 1 3 0 8 3 0 8\n",
      " 8 1 0 4 8 2 3 7 7 6 4 1 6 7 0 8 9 0 0 6 4 1 1 1 6 5 4 0 5 5 9 7 1 0 0 0 5\n",
      " 9 8 3 0 4 1 6 3 7 9 5 5 5 9 5 8 4 8 0 5 9 9 1 3 8 2 7 1 9 1 0 5 6 2 3 1 3\n",
      " 4 4 8 9 6 1 7 9 9 9 7 7 2 9 8 5 2 1 3 5 3 7 2 2 9 4 6 1 0 3 8 5 2 5 4 3 9\n",
      " 1 3 5 8 5 8 1 5 4 8 0 6 5 3 8 7 6 8 6 4 1 5 7 1 0 6 0 1 1 4 1 5 0 4 2 1 2\n",
      " 7 8 3 7 2 7 9 7 9 6 2 6 2 3 4 7 7 7 7 8 8 8 6 0 6 8 5 6 8 1 6 3 6 1 1 2 8\n",
      " 5 3 9 8 6 7 8 4 6 1 5 2 1 2 9 5 9 4 9 0 1 1 1 8 4 2 0 7 3 7 4 1 7 2 7 4 4\n",
      " 5 2 4 1 7 1 7 6 1 8 0 6 8 9 3 6 7 5 5 1 9 1 6 1 0 0 1 8 9 4 3 8 2 5 6 5 0\n",
      " 1 9 3 2 7 2 7 7 5 8 0 5 3 3 5 0 0 9 3 5 8 1 5 1 9 0 4 8 1 3 6 3 9 5 4 4 2\n",
      " 8 5 7 4 6 1 3 6 4 9 3 6 2 0 9 7 1 9 0 2 8 0 3 6 7 2 7 8 8 1 5 5 4 2 0 3 6\n",
      " 4 3 3 9 1 2 6 1 6 6 8 7 2 3 8 8 9 1 6 7 7 4 7 8 3 3 3 0 9 6 0 8 7 2 2 2 9\n",
      " 4 4 8 7 6 8 3 8 1 1 5 2 6 4 7 8 6 9 6 1 0 2 3 4 3 3 5 4 4 4 4 7 4 0 5 6 0\n",
      " 1 3 8 9 6 4 1 4 7 9 0 1 3 7 1 5 2 6 4 4 4 9 1 3 0 6 7 5 8 1 3 5 1 7 5 9 9\n",
      " 0 3 6 5 9 3 4 8 8 9 3 2 8 3 7 3 8 9 8 8 7 0 5 9 0 3 4 2 5 5 5 6 3 4 1 8 3\n",
      " 9 0 9 5 4 9 8 8 4 9 9 2 3 7 8 3 5 5 0 8 7 0 5 0 7 1 5 4 0 7 4 4 4 6 1 7 9\n",
      " 4 3 7 6 7 7 3 6 5 4 6 9 7 9 7 1 1 9 0 6 6 1 5 4 6 4 8 4 8 4 7 4 3 9 7 1 2\n",
      " 3 0 0 2 4 5 3 0 7 3 2 8 2 8 4 3 5 0 3 0 1 9 8 8 6 5 6 2 7 2 1 9 7 4 9 7 7\n",
      " 6 1 2 5 3 2 5 0 5 6 3 1 5 1 1 4 4 4 3 1 1 7 7 7 2 1 6 6 9 8 5 7 5 0 0 0 7\n",
      " 1 8 1 3 3 4 2 6 6 5 5 2 7 4 6 5 4 7 1 6 2 7 3 3 2 4 1 8 3 8 1 6 4 8 5 7 4\n",
      " 7 8 0 1 2 3 4 6 7 4 1 0 9 9 0 3 6 7 5 5 9 4 1 9 9 5 1 7 1 4 1 3 0 2 3 9 5\n",
      " 3 7 9 0 0 2 7 5 8 7 6 3 0 6 3 3 5 0 1 7 4 4 9 1 2 2 2 9 9 6 0 6 3 2 9 5 4\n",
      " 7 9 4 7 2 9 9 3 4 4 1 3 3 0 0 0 4 6 4 2 0 6 1 6 3 4 9 3 8 8 1 4 1 7 0 2 8\n",
      " 3 1 9 1 0 8 9 0 2 4 9 5 5 0 7 6 5 7 7 2 3 5 3 1 5 4 4 1 4 4 3 7 1 4 0 6 2\n",
      " 7 8 9 2 7 2 2 7 2 8 1 3 6 5 5 9 6 8 0 5 0 3 5 6 6 7 9 0 5 4 3 1 2 2 4 1 4\n",
      " 6 9 3 1 9 5 6 5 5 1 5 1 8 6 6 5 4 0 0 3 2 1 9 2 6 5 9 7 0 7 3 7 5 6 9 6 7\n",
      " 4]\n"
     ]
    },
    {
     "data": {
      "text/plain": [
       "0.854"
      ]
     },
     "execution_count": 9,
     "metadata": {},
     "output_type": "execute_result"
    }
   ],
   "source": [
    "dev_predictions = make_predictions(X_dev, W1, b1, W2, b2)\n",
    "get_accuracy(dev_predictions, Y_dev)"
   ]
  }
 ],
 "metadata": {
  "kernelspec": {
   "display_name": "Python 3",
   "language": "python",
   "name": "python3"
  },
  "language_info": {
   "codemirror_mode": {
    "name": "ipython",
    "version": 3
   },
   "file_extension": ".py",
   "mimetype": "text/x-python",
   "name": "python",
   "nbconvert_exporter": "python",
   "pygments_lexer": "ipython3",
   "version": "3.7.12"
  },
  "papermill": {
   "default_parameters": {},
   "duration": 211.000769,
   "end_time": "2023-03-24T06:22:47.286936",
   "environment_variables": {},
   "exception": null,
   "input_path": "__notebook__.ipynb",
   "output_path": "__notebook__.ipynb",
   "parameters": {},
   "start_time": "2023-03-24T06:19:16.286167",
   "version": "2.4.0"
  }
 },
 "nbformat": 4,
 "nbformat_minor": 5
}
